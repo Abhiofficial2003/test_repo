{
 "cells": [
  {
   "cell_type": "markdown",
   "id": "b1d79c03-ff80-4f86-9316-47be30da530b",
   "metadata": {},
   "source": [
    "# Data Science Tools and Ecosystem"
   ]
  },
  {
   "cell_type": "markdown",
   "id": "03092bc4-d9c0-427d-9be5-3911687645c0",
   "metadata": {},
   "source": [
    "## Introduction\n",
    "In this notebook, we will summarize various tools, libraries, and programming languages used in the field of Data Science. We will also perform some simple arithmetic operations using Python code."
   ]
  },
  {
   "cell_type": "markdown",
   "id": "7d267dec-177a-41ac-a478-73ac0c2a6d18",
   "metadata": {},
   "source": [
    "Data Science Languages\n",
    "Some of the most popular languages that Data Scientists use are:\n",
    "1. Python\n",
    "2. R\n",
    "3. SQL\n",
    "4. Julia\n",
    "5. Scala"
   ]
  },
  {
   "cell_type": "markdown",
   "id": "767451a9-3f8d-486a-9fa0-861e218d0e5e",
   "metadata": {},
   "source": [
    "Data Science Libraries\n",
    "Popular libraries used by Data Scientists include:\n",
    "1. Pandas\n",
    "2. NumPy\n",
    "3. Matplotlib\n",
    "4. Scikit-learn\n",
    "5. TensorFlow"
   ]
  },
  {
   "cell_type": "markdown",
   "id": "d926f17a-3f43-4b4b-b2e8-307590166040",
   "metadata": {},
   "source": [
    "Data Science Tools\n",
    "| Category       | Tool              |\n",
    "|----------------|-------------------|\n",
    "| IDE            | Jupyter Notebook  |\n",
    "| IDE            | RStudio           |\n",
    "| Visualization  | Tableau           |\n",
    "| Visualization  | Power BI          |\n",
    "| ML Platform    | Google Colab      |"
   ]
  },
  {
   "cell_type": "markdown",
   "id": "c1a98a16-39da-434c-9da6-455c7652b9a2",
   "metadata": {},
   "source": [
    "Examples of Evaluating Arithmetic Expressions\n",
    "Below are examples of simple arithmetic operations using Python."
   ]
  },
  {
   "cell_type": "code",
   "execution_count": 2,
   "id": "c9388f50-2e50-428f-9e48-91242599a874",
   "metadata": {},
   "outputs": [
    {
     "data": {
      "text/plain": [
       "17"
      ]
     },
     "execution_count": 2,
     "metadata": {},
     "output_type": "execute_result"
    }
   ],
   "source": [
    "# This will multiply and add numbers\n",
    "(3 * 4) + 5"
   ]
  },
  {
   "cell_type": "code",
   "execution_count": 3,
   "id": "9df25dcf-a249-4195-94a1-6074bc8f93d5",
   "metadata": {},
   "outputs": [
    {
     "data": {
      "text/plain": [
       "3.3333333333333335"
      ]
     },
     "execution_count": 3,
     "metadata": {},
     "output_type": "execute_result"
    }
   ],
   "source": [
    "# Convert 200 minutes to hours\n",
    "minutes = 200\n",
    "hours = minutes / 60\n",
    "hours"
   ]
  },
  {
   "cell_type": "markdown",
   "id": "01920a68-9ccc-4098-a349-e75d553b660e",
   "metadata": {},
   "source": [
    "## Objectives\n",
    "- List popular languages for Data Science\n",
    "- List commonly used libraries in Data Science\n",
    "- Create a table of Data Science tools\n",
    "- Perform arithmetic expressions using Python\n",
    "- Convert minutes into hours using Python code"
   ]
  },
  {
   "cell_type": "markdown",
   "id": "5c36f1f1-a70f-4d76-b6a1-2674a97726b2",
   "metadata": {},
   "source": [
    "## Author\n",
    "**Abhinandan Maji**"
   ]
  },
  {
   "cell_type": "code",
   "execution_count": null,
   "id": "d513e247-9ace-49c1-9943-6dfca4bf3009",
   "metadata": {},
   "outputs": [],
   "source": []
  }
 ],
 "metadata": {
  "kernelspec": {
   "display_name": "Python 3 (ipykernel)",
   "language": "python",
   "name": "python3"
  },
  "language_info": {
   "codemirror_mode": {
    "name": "ipython",
    "version": 3
   },
   "file_extension": ".py",
   "mimetype": "text/x-python",
   "name": "python",
   "nbconvert_exporter": "python",
   "pygments_lexer": "ipython3",
   "version": "3.12.7"
  }
 },
 "nbformat": 4,
 "nbformat_minor": 5
}
